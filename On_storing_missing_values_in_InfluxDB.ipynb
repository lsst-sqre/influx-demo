{
 "cells": [
  {
   "cell_type": "markdown",
   "metadata": {},
   "source": [
    "   # On storing missing values in InfluxDB"
   ]
  },
  {
   "cell_type": "markdown",
   "metadata": {},
   "source": [
    "Usually `NaN` or `null` are used to indicate missing values in tabular data. InfluxDB does not support `NaN` or `null` values and it has been subject of long debates in https://github.com/influxdata/influxdb/issues. \n",
    "\n",
    "In this notebook we investigate how InfluxDB handles missing values and then propose an approch to handle `NaN` or `null` values present in the data we want to store in InfluxDB.\n",
    "\n",
    "The short answer is \"missing data are not stored in InfluxDB\".\n",
    "\n",
    "We are going to use `requests` as the most fundamental method to interact with the InfluxDB HTTP API. During this investigation, it was found that the existing Python clients `influxdb-python` and `aioinflux` do not handle missing values correctly."
   ]
  },
  {
   "cell_type": "code",
   "execution_count": 1,
   "metadata": {},
   "outputs": [],
   "source": [
    "import requests"
   ]
  },
  {
   "cell_type": "markdown",
   "metadata": {},
   "source": [
    "# Syntax\n",
    "The InfluxDB [line protocol](https://docs.influxdata.com/influxdb/v1.7/write_protocols/line_protocol_reference/) has the following syntax:\n",
    "\n",
    "`<measurement>[,<tag_key>=<tag_value>[,<tag_key>=<tag_value>]] <field_key>=<field_value>[,<field_key>=<field_value>] [<timestamp>]`\n",
    "\n",
    "Conceptually you can think of a measurement as an SQL table, where the primary index is always time. tags and fields are effectively columns in the table. tags are indexed, and fields are not. The difference is that, with InfluxDB, you can have millions of measurements, you don’t have to define schemas up-front, and **null values aren’t stored**.\n",
    "\n",
    "Also,  if you don't specify a timestamp InfluxDB uses the server’s local nanosecond timestamp in Unix epoch. "
   ]
  },
  {
   "cell_type": "markdown",
   "metadata": {},
   "source": [
    "To verify that we cannot store a `NaN` or `null` in InfluxDB let's start by sending a point cotaining those values. For simplicity, the data contains only a measurement and a field."
   ]
  },
  {
   "cell_type": "code",
   "execution_count": 3,
   "metadata": {},
   "outputs": [
    {
     "name": "stdout",
     "output_type": "stream",
     "text": [
      "{\"error\":\"unable to parse 'mytopic myfield=NaN': invalid number\"}\n",
      "\n"
     ]
    }
   ],
   "source": [
    "r = requests.post(url=\"https://influxdb-demo.lsst.codes/write?db=mydb\", \n",
    "                  data='mytopic myfield=NaN')\n",
    "if r.status_code != '204':\n",
    "    print(r.text)"
   ]
  },
  {
   "cell_type": "code",
   "execution_count": 4,
   "metadata": {},
   "outputs": [
    {
     "name": "stdout",
     "output_type": "stream",
     "text": [
      "{\"error\":\"unable to parse 'mytopic myfield=null': invalid number\"}\n",
      "\n"
     ]
    }
   ],
   "source": [
    "r = requests.post(url=\"https://influxdb-demo.lsst.codes/write?db=mydb\", \n",
    "                  data='mytopic myfield=null')\n",
    "if r.status_code != '204':\n",
    "    print(r.text)"
   ]
  },
  {
   "cell_type": "markdown",
   "metadata": {},
   "source": [
    "Now let's add a couple of valid numbers at different times:"
   ]
  },
  {
   "cell_type": "code",
   "execution_count": 5,
   "metadata": {
    "scrolled": true
   },
   "outputs": [
    {
     "name": "stdout",
     "output_type": "stream",
     "text": [
      "\n"
     ]
    }
   ],
   "source": [
    "r = requests.post(url=\"https://influxdb-demo.lsst.codes/write?db=mydb\", \n",
    "                  data='mytopic myfield=1.0')\n",
    "if r.status_code != '204':\n",
    "    print(r.text)"
   ]
  },
  {
   "cell_type": "code",
   "execution_count": 6,
   "metadata": {
    "scrolled": true
   },
   "outputs": [
    {
     "name": "stdout",
     "output_type": "stream",
     "text": [
      "\n"
     ]
    }
   ],
   "source": [
    "r = requests.post(url=\"https://influxdb-demo.lsst.codes/write?db=mydb\", \n",
    "                  data='mytopic myfield=2.0')\n",
    "if r.status_code != '204':\n",
    "    print(r.text)"
   ]
  },
  {
   "cell_type": "markdown",
   "metadata": {},
   "source": [
    "You can retrieve the data with:"
   ]
  },
  {
   "cell_type": "code",
   "execution_count": 7,
   "metadata": {},
   "outputs": [
    {
     "data": {
      "text/plain": [
       "{'results': [{'statement_id': 0,\n",
       "   'series': [{'name': 'mytopic',\n",
       "     'columns': ['time', 'myfield'],\n",
       "     'values': [['2019-09-10T03:59:30.976287925Z', 1],\n",
       "      ['2019-09-10T03:59:33.542259527Z', 2]]}]}]}"
      ]
     },
     "execution_count": 7,
     "metadata": {},
     "output_type": "execute_result"
    }
   ],
   "source": [
    "r = requests.get(url=\"https://influxdb-demo.lsst.codes/query\", \n",
    "                 params={'q':'SELECT * FROM \"mydb\".\"autogen\".\"mytopic\"'})\n",
    "r.json()"
   ]
  },
  {
   "cell_type": "markdown",
   "metadata": {},
   "source": [
    "Let's add a second field to the same measurement:"
   ]
  },
  {
   "cell_type": "code",
   "execution_count": 8,
   "metadata": {
    "scrolled": true
   },
   "outputs": [
    {
     "data": {
      "text/plain": [
       "{'results': [{'statement_id': 0,\n",
       "   'series': [{'name': 'mytopic',\n",
       "     'columns': ['time', 'myfield', 'myotherfield'],\n",
       "     'values': [['2019-09-10T03:59:30.976287925Z', 1, None],\n",
       "      ['2019-09-10T03:59:33.542259527Z', 2, None],\n",
       "      ['2019-09-10T03:59:55.317192916Z', 3, 2]]}]}]}"
      ]
     },
     "execution_count": 8,
     "metadata": {},
     "output_type": "execute_result"
    }
   ],
   "source": [
    "r = requests.post(url=\"https://influxdb-demo.lsst.codes/write?db=mydb\", \n",
    "                  data='mytopic myfield=3.0,myotherfield=2.0')\n",
    "r = requests.get(url=\"https://influxdb-demo.lsst.codes/query\", \n",
    "                 params={'q':'SELECT * FROM \"mydb\".\"autogen\".\"mytopic\"'})\n",
    "r.json()"
   ]
  },
  {
   "cell_type": "markdown",
   "metadata": {},
   "source": [
    "After adding the new field, we imediatelly see that missing values for this field at previous times are returned as `None`. The same is true for future missing values of the intial field:"
   ]
  },
  {
   "cell_type": "code",
   "execution_count": 9,
   "metadata": {},
   "outputs": [
    {
     "data": {
      "text/plain": [
       "{'results': [{'statement_id': 0,\n",
       "   'series': [{'name': 'mytopic',\n",
       "     'columns': ['time', 'myfield', 'myotherfield'],\n",
       "     'values': [['2019-09-10T03:59:30.976287925Z', 1, None],\n",
       "      ['2019-09-10T03:59:33.542259527Z', 2, None],\n",
       "      ['2019-09-10T03:59:55.317192916Z', 3, 2],\n",
       "      ['2019-09-10T04:00:38.816616908Z', None, 3]]}]}]}"
      ]
     },
     "execution_count": 9,
     "metadata": {},
     "output_type": "execute_result"
    }
   ],
   "source": [
    "r = requests.post(url=\"https://influxdb-demo.lsst.codes/write?db=mydb\", \n",
    "                  data='mytopic myotherfield=3.0')\n",
    "r = requests.get(url=\"https://influxdb-demo.lsst.codes/query\", \n",
    "                 params={'q':'SELECT * FROM \"mydb\".\"autogen\".\"mytopic\"'})\n",
    "r.json()"
   ]
  },
  {
   "cell_type": "code",
   "execution_count": 11,
   "metadata": {},
   "outputs": [
    {
     "data": {
      "text/plain": [
       "{'results': [{'statement_id': 0,\n",
       "   'series': [{'name': 'mytopic',\n",
       "     'columns': ['time', 'myfield', 'myotherfield'],\n",
       "     'values': [['2019-09-10T03:59:30.976287925Z', 1, None],\n",
       "      ['2019-09-10T03:59:33.542259527Z', 2, None],\n",
       "      ['2019-09-10T03:59:55.317192916Z', 3, 2],\n",
       "      ['2019-09-10T04:00:38.816616908Z', None, 3],\n",
       "      ['2019-09-10T04:01:16.616654679Z', 5, 4]]}]}]}"
      ]
     },
     "execution_count": 11,
     "metadata": {},
     "output_type": "execute_result"
    }
   ],
   "source": [
    "r = requests.post(url=\"https://influxdb-demo.lsst.codes/write?db=mydb\", \n",
    "                  data='mytopic myfield=5.0,myotherfield=4.0')\n",
    "r = requests.get(url=\"https://influxdb-demo.lsst.codes/query\", \n",
    "                 params={'q':'SELECT * FROM \"mydb\".\"autogen\".\"mytopic\"'})\n",
    "r.json()"
   ]
  },
  {
   "cell_type": "markdown",
   "metadata": {},
   "source": [
    "# More on missing data"
   ]
  },
  {
   "cell_type": "markdown",
   "metadata": {},
   "source": [
    "To understand why InfluxDB is different from other databases in this regard let's see its behaviour when data is sampled at different time intervals (a common feature of any time-series database).  The following InfluxQL query returns the mean value of `myfield` sampled every `15s`.  "
   ]
  },
  {
   "cell_type": "code",
   "execution_count": 12,
   "metadata": {},
   "outputs": [
    {
     "data": {
      "text/plain": [
       "{'results': [{'statement_id': 0,\n",
       "   'series': [{'name': 'mytopic',\n",
       "     'columns': ['time', 'mean'],\n",
       "     'values': [['2019-09-10T03:59:30Z', 1.5],\n",
       "      ['2019-09-10T03:59:45Z', 3],\n",
       "      ['2019-09-10T04:00:00Z', None],\n",
       "      ['2019-09-10T04:00:15Z', None],\n",
       "      ['2019-09-10T04:00:30Z', None],\n",
       "      ['2019-09-10T04:00:45Z', None],\n",
       "      ['2019-09-10T04:01:00Z', None],\n",
       "      ['2019-09-10T04:01:15Z', 5]]}]}]}"
      ]
     },
     "execution_count": 12,
     "metadata": {},
     "output_type": "execute_result"
    }
   ],
   "source": [
    "r = requests.get(url=\"https://influxdb-demo.lsst.codes/query\", \n",
    "                 params={'q':'SELECT mean(myfield) FROM \"mydb\".\"autogen\".\"mytopic\" GROUP BY time(15s)'})\n",
    "r.json()"
   ]
  },
  {
   "cell_type": "markdown",
   "metadata": {},
   "source": [
    "Again, the default behaviour is to report `None` for time intervals with no data. \n",
    "\n",
    "InfuxQL (the InfluxDB query language) also provides a function to \"fill\" time intervals with no data, you can use `fill(none)` if you don't want to return missing values. "
   ]
  },
  {
   "cell_type": "code",
   "execution_count": 13,
   "metadata": {},
   "outputs": [
    {
     "data": {
      "text/plain": [
       "{'results': [{'statement_id': 0,\n",
       "   'series': [{'name': 'mytopic',\n",
       "     'columns': ['time', 'mean'],\n",
       "     'values': [['2019-09-10T03:59:30Z', 1.5],\n",
       "      ['2019-09-10T03:59:45Z', 3],\n",
       "      ['2019-09-10T04:01:15Z', 5]]}]}]}"
      ]
     },
     "execution_count": 13,
     "metadata": {},
     "output_type": "execute_result"
    }
   ],
   "source": [
    "r = requests.get(url=\"https://influxdb-demo.lsst.codes/query\", \n",
    "                 params={'q':'SELECT mean(myfield) FROM \"mydb\".\"autogen\".\"mytopic\" GROUP BY time(15s) fill(none)'})\n",
    "r.json()"
   ]
  },
  {
   "cell_type": "markdown",
   "metadata": {},
   "source": [
    "You can also return the result of a linear interpolation for time intervals with no data using `fill(linear)`."
   ]
  },
  {
   "cell_type": "code",
   "execution_count": 14,
   "metadata": {},
   "outputs": [
    {
     "data": {
      "text/plain": [
       "{'results': [{'statement_id': 0,\n",
       "   'series': [{'name': 'mytopic',\n",
       "     'columns': ['time', 'mean'],\n",
       "     'values': [['2019-09-10T03:59:45Z', 2],\n",
       "      ['2019-09-10T04:00:00Z', 2.3333333333333335],\n",
       "      ['2019-09-10T04:00:15Z', 2.6666666666666665],\n",
       "      ['2019-09-10T04:00:30Z', 3],\n",
       "      ['2019-09-10T04:00:45Z', 3.3333333333333335],\n",
       "      ['2019-09-10T04:01:00Z', 3.6666666666666665],\n",
       "      ['2019-09-10T04:01:15Z', 4],\n",
       "      ['2019-09-10T04:01:30Z', None]]}]}]}"
      ]
     },
     "execution_count": 14,
     "metadata": {},
     "output_type": "execute_result"
    }
   ],
   "source": [
    "r = requests.get(url=\"https://influxdb-demo.lsst.codes/query\", \n",
    "                 params={'q':'SELECT mean(myotherfield) FROM \"mydb\".\"autogen\".\"mytopic\" GROUP BY time(15s) fill(linear)'})\n",
    "r.json()"
   ]
  },
  {
   "cell_type": "markdown",
   "metadata": {},
   "source": [
    "# How to handle `NaN` and `null` then?"
   ]
  },
  {
   "cell_type": "markdown",
   "metadata": {},
   "source": [
    "The above should convince you that **we should not store any \"sentinel values\" for missing data** in InfluxDB replacing `NaN` or `null` which are not supported by constrution. The right aproach is to just drop the corresponding field when the incoming value is missing. In the case of the `lsst.sal.ATDome.logevent_azimuthCommandedState` topic that motivated this discussion:\n",
    "\n",
    "`ATDomeID=1i,azimuth=\\ufffd,commandedState=1i,priority=0i,private_host=1994757124i,private_kafkaStamp=1567888128.2887785,private_origin=32i,private_rcvStamp=1567888127.9708674,private_revCode=\"5544b90a\",private_seqNum=1i,private_sndStamp=1567887306.2843742 1567888091465571857'`\n",
    "\n",
    "the only place where it is possible to drop the `azimuth` field while keeping the others is in the InfluxDB Sink connector, right before writing to InfluxDB. The fact that the value is serialized to `\\ufffd` instead seems to be a bug in the connector.  \n",
    "\n",
    "\n",
    "\n"
   ]
  }
 ],
 "metadata": {
  "kernelspec": {
   "display_name": "venv",
   "language": "python",
   "name": "venv"
  },
  "language_info": {
   "codemirror_mode": {
    "name": "ipython",
    "version": 3
   },
   "file_extension": ".py",
   "mimetype": "text/x-python",
   "name": "python",
   "nbconvert_exporter": "python",
   "pygments_lexer": "ipython3",
   "version": "3.7.3"
  }
 },
 "nbformat": 4,
 "nbformat_minor": 2
}
